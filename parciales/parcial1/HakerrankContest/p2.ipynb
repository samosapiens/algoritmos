{
 "cells": [
  {
   "cell_type": "code",
   "execution_count": 1,
   "metadata": {},
   "outputs": [],
   "source": [
    "def new_year_and_hurry_brute_force():\n",
    "    # Read input\n",
    "    [n, k] = [int(raw) for raw in raw_input().split(' ')]\n",
    "\n",
    "    # Time for contest\n",
    "    minutes_left = int((4.0*60.0 - k))\n",
    "\n",
    "    # Estimate number of problems to solve\n",
    "    total = 0\n",
    "    is_all = True\n",
    "    for i in range(n):\n",
    "        total += 5*(i+1)\n",
    "        if total > minutes_left: \n",
    "            is_all = False\n",
    "            break\n",
    "\n",
    "    # Can do all?\n",
    "    if is_all: print n\n",
    "    else: print i"
   ]
  },
  {
   "cell_type": "code",
   "execution_count": 2,
   "metadata": {},
   "outputs": [
    {
     "name": "stdout",
     "output_type": "stream",
     "text": [
      "3 222\n",
      "2\n"
     ]
    }
   ],
   "source": [
    "new_year_and_hurry_brute_force()"
   ]
  },
  {
   "cell_type": "code",
   "execution_count": 3,
   "metadata": {},
   "outputs": [
    {
     "name": "stdout",
     "output_type": "stream",
     "text": [
      "4 190\n",
      "4\n"
     ]
    }
   ],
   "source": [
    "new_year_and_hurry_brute_force()"
   ]
  },
  {
   "cell_type": "code",
   "execution_count": 4,
   "metadata": {},
   "outputs": [
    {
     "name": "stdout",
     "output_type": "stream",
     "text": [
      "7 1\n",
      "7\n"
     ]
    }
   ],
   "source": [
    "new_year_and_hurry_brute_force()"
   ]
  },
  {
   "cell_type": "code",
   "execution_count": null,
   "metadata": {},
   "outputs": [],
   "source": []
  }
 ],
 "metadata": {
  "kernelspec": {
   "display_name": "Python 2",
   "language": "python",
   "name": "python2"
  },
  "language_info": {
   "codemirror_mode": {
    "name": "ipython",
    "version": 2
   },
   "file_extension": ".py",
   "mimetype": "text/x-python",
   "name": "python",
   "nbconvert_exporter": "python",
   "pygments_lexer": "ipython2",
   "version": "2.7.14"
  }
 },
 "nbformat": 4,
 "nbformat_minor": 2
}
